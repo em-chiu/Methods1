{
  "nbformat": 4,
  "nbformat_minor": 0,
  "metadata": {
    "colab": {
      "name": "Chiu_HW1.ipynb",
      "provenance": [],
      "collapsed_sections": [],
      "include_colab_link": true
    },
    "kernelspec": {
      "name": "python3",
      "display_name": "Python 3"
    },
    "language_info": {
      "name": "python"
    }
  },
  "cells": [
    {
      "cell_type": "markdown",
      "metadata": {
        "id": "view-in-github",
        "colab_type": "text"
      },
      "source": [
        "<a href=\"https://colab.research.google.com/github/em-chiu/Methods1/blob/main/Chiu_HW1.ipynb\" target=\"_parent\"><img src=\"https://colab.research.google.com/assets/colab-badge.svg\" alt=\"Open In Colab\"/></a>"
      ]
    },
    {
      "cell_type": "code",
      "metadata": {
        "id": "tGvYRnIIZpuI"
      },
      "source": [
        ""
      ],
      "execution_count": null,
      "outputs": []
    },
    {
      "cell_type": "markdown",
      "metadata": {
        "id": "KvFj1P9mZy3b"
      },
      "source": [
        "**Assignment 1**\n",
        "\n",
        "10 points\n",
        "\n",
        "* due Friday Sept. 23, 11:45am (before the beginning of the class);\n",
        "* only Blackboard electronic submissions will be accepted;\n",
        "* no late submissions will be accepted;\n",
        "* this is an individual assignment;\n",
        "* name you file yourLastName_HW1.ipynb;\n",
        "* download your notebook from Google Colab?:\n",
        "* 1. select 'Files' tab and 'Rename' your notebook following the pattern specified above;\n",
        "* 2. select 'Edit' and 'Clear All Outputs';\n",
        "* 3. select 'Runtime' and 'Restart Runtime';\n",
        "* 4. select 'Files' tab and select 'Save' option to make sure that you saved the latest changes;\n",
        "* 5. select 'File', then 'Download' (choose the .ipynb option).\n",
        "* Upload your assignment on the class blackboard (*Help*: https://help.blackboard.com/Learn/Student/Assignments/Submit_Assignments). \n"
      ]
    },
    {
      "cell_type": "markdown",
      "metadata": {
        "id": "kcTtrO2zZqXG"
      },
      "source": [
        "## **Problem Statement**\n",
        "\n",
        "You are to create a script that will print out the number of points issued to the user given the speeding violation on the 75 miles per hour highway. \n",
        "\n",
        "Ask the user to input her name and the speed at which the user was driving. Use the Speeding Chart ([https://www.michaelblocklawyer.com/did-you-know-that-you-can-drive-within-the-posed-speed-limit-still-get-a-speeding-ticket/](https://www.michaelblocklawyer.com/did-you-know-that-you-can-drive-within-the-posed-speed-limit-still-get-a-speeding-ticket/)) to compute the over the speed limit offset and output the number of points issued to the user by the police officer.\n",
        "\n",
        "If the user was driving less than 60 miles per hour, the user's speed is considered to be not Resonable. See the corresponding violation in the chart.  \n",
        "\n",
        "Four sample outputs obtained using **one** script are provided below. \n",
        "\n",
        "#### Output 1\n",
        "> Name: Jake\n",
        "\n",
        "> Speed: 79\n",
        "\n",
        "> Jake , you were speeding 4 mph above the 75 mph speed limit. You will be assigned 3 points.\n",
        "\n",
        "\n",
        "#### Output 2\n",
        "> Name: Mike\n",
        "\n",
        "> Speed: 45\n",
        "\n",
        "> Mike , your speed was 30 mph below the 75 mph speed limit (your speed was not reasonable).\n",
        "You will be assigned 3 points.\n",
        "\n",
        "#### Output 3\n",
        "> Name: Jane\n",
        "\n",
        "> Speed: 73\n",
        "\n",
        "> Jane , you are a good driver. No points are assigned to you.\n",
        "\n",
        "#### Output 4\n",
        "> Name: Mary\n",
        "\n",
        "> Speed: 97\n",
        "\n",
        "> Mary , your were speeding 22 mph above the 75 mph speed limit. You will be assigned 6 points.\n",
        "\n",
        "Point distribution:\n",
        "* (1 point): naming the file following the provided template. \n",
        "* (3 points): using variables of two different types (string and integer/float).\n",
        "* (6 points): correct use of condition/selection statements. \n",
        "\n"
      ]
    },
    {
      "cell_type": "code",
      "metadata": {
        "id": "Tfd9W6JKaUhk",
        "colab": {
          "base_uri": "https://localhost:8080/"
        },
        "outputId": "2dbb92a4-0214-495e-956c-294f9f43aa24"
      },
      "source": [
        "name = input(\"Name: \\t\")\n",
        "speed = int(input(\"Speed: \\t\"))\n",
        "speedLimit = int(75)\n",
        "compareSpeed = abs(speedLimit - speed)\n",
        "if (speed < 60):\n",
        "  print (name, \", your speed was\", compareSpeed, \"mph below the 75 mph speed limit. You will be assigned 3 points.\")\n",
        "elif (speed <= 75):\n",
        "  print (name, \", you are a good driver. No points are assigned to you.\")\n",
        "elif (speed > 75 and speed <= 85):\n",
        "  print (name, \", your speed was\", compareSpeed, \"mph above the 75 mph speed limit. You will be assigned 3 points.\")\n",
        "elif (speed > 85 and speed <= 95):\n",
        "  print (name, \", your speed was\", compareSpeed, \"mph above the 75 mph speed limit. You will be assigned 4 points.\")\n",
        "elif (speed > 95 and speed <= 105):\n",
        "  print (name, \", your speed was\", compareSpeed, \"mph above the 75 mph speed limit. You will be assigned 6 points.\")\n",
        "elif (speed > 105 and speed <= 115):\n",
        "  print (name, \", your speed was\", compareSpeed, \"mph above the 75 mph speed limit. You will be assigned 8 points.\")\n",
        "else:\n",
        "  print (name, \", your speed was\", compareSpeed, \"mph above the 75 mph speed limit. You will be assigned 11 points.\")"
      ],
      "execution_count": 2,
      "outputs": [
        {
          "output_type": "stream",
          "name": "stdout",
          "text": [
            "Name: \tgt\n",
            "Speed: \t115\n",
            "gt , your speed was 40 mph above the 75 mph speed limit. You will be assigned 8 points.\n"
          ]
        }
      ]
    },
    {
      "cell_type": "code",
      "metadata": {
        "id": "A_gpe2FwVxG7"
      },
      "source": [
        "#scrapcode\n",
        "#print(compareSpeed)\n",
        "#subtraction(speedLimit,speed)"
      ],
      "execution_count": null,
      "outputs": []
    }
  ]
}