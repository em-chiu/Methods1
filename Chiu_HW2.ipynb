{
  "nbformat": 4,
  "nbformat_minor": 0,
  "metadata": {
    "colab": {
      "name": "Chiu_HW2.ipynb",
      "provenance": [],
      "include_colab_link": true
    },
    "kernelspec": {
      "name": "python3",
      "display_name": "Python 3"
    },
    "language_info": {
      "name": "python"
    }
  },
  "cells": [
    {
      "cell_type": "markdown",
      "metadata": {
        "id": "view-in-github",
        "colab_type": "text"
      },
      "source": [
        "<a href=\"https://colab.research.google.com/github/em-chiu/Methods1/blob/main/Chiu_HW2.ipynb\" target=\"_parent\"><img src=\"https://colab.research.google.com/assets/colab-badge.svg\" alt=\"Open In Colab\"/></a>"
      ]
    },
    {
      "cell_type": "markdown",
      "metadata": {
        "id": "cUvR2_jrFaZM"
      },
      "source": [
        "**Assignment 2**\n",
        "\n",
        "10 points\n",
        "\n",
        "* due Sept. 30, 11:45am (before the beginning of the class);\n",
        "* only Blackboard electronic submissions will be accepted;\n",
        "* no late submissions will be accepted;\n",
        "* this is an individual assignment;\n",
        "* name you file yourLastName_HW2.ipynb;\n",
        "* download your notebook from Google Colab?:\n",
        "* 1. select 'Files' tab and 'Rename' your notebook following the pattern specified above;\n",
        "* 2. select 'Edit' and 'Clear All Outputs';\n",
        "* 3. select 'Runtime' and 'Restart Runtime';\n",
        "* 4. select 'Files' tab and select 'Save' option to make sure that you saved the latest changes;\n",
        "* 5. select 'File', then 'Download' (choose the .ipynb option).\n",
        "* Upload your assignment on the class blackboard (*Help*: https://help.blackboard.com/Learn/Student/Assignments/Submit_Assignments). "
      ]
    },
    {
      "cell_type": "markdown",
      "metadata": {
        "id": "2bI11wtfF7Md"
      },
      "source": [
        "**Problem Statement**\n",
        "\n",
        "Introduce four variables: \n",
        "\n",
        "* *login*, assign within notebook value \"LING78100\"\n",
        "* *pswd*, assign within notebook value 1234\n",
        "* *sub_login*, ask the user to input a string value for this variable \n",
        "* *sub_pswd*, ask the user to input an integer value for this variable \n",
        "\n",
        "If both *sub_login* is equal to *login* **and** *sub_pswd* is equal to *pswd* then output the message \"Welcome to your account\".\n",
        "\n",
        "If *sub_login* is equal to *login* **but** *sub_pswd* is **not** equal to *pswd* then output the message \"Have you forgotten your password?\"\n",
        "\n",
        "Otherwise, output the message \"Incorrect account credentials.\"\n",
        "\n",
        "Use a `while` loop to allow for at **most three** incorrect combinations submissions. If the third login-password combination is incorrect, output the message \"Your account is placed on hold.\"\n",
        "\n",
        "A sample run of the loop of provided.\n",
        "\n",
        "\n"
      ]
    },
    {
      "cell_type": "code",
      "metadata": {
        "id": "KoWsJ3tEFYM9"
      },
      "source": [
        "login = \"LING78100\"\n",
        "pswd = 1234\n",
        "counter = 0\n",
        "while (counter < 3):\n",
        "  sub_login = str(input(\"Login:\\t\"))\n",
        "  sub_pswd = int(input(\"Password:\\t\"))\n",
        "  if (sub_login == login) and (sub_pswd == pswd):\n",
        "    print(\"Welcome to your account.\")\n",
        "    break\n",
        "  elif (sub_login == login) and (sub_pswd != pswd):\n",
        "    print(\"Have you forgotten your password?\")\n",
        "  else: \n",
        "    print (\"Incorrect account credentials.\")\n",
        "  counter += 1\n",
        "if (counter == 3):\n",
        "  print (\"Your account is placed on hold.\")"
      ],
      "execution_count": null,
      "outputs": []
    },
    {
      "cell_type": "code",
      "metadata": {
        "id": "5MUnZfAglEba"
      },
      "source": [
        "\n"
      ],
      "execution_count": null,
      "outputs": []
    }
  ]
}