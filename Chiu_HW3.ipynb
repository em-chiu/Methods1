{
  "nbformat": 4,
  "nbformat_minor": 0,
  "metadata": {
    "colab": {
      "name": "Chiu_HW3.ipynb",
      "provenance": [],
      "collapsed_sections": [],
      "include_colab_link": true
    },
    "kernelspec": {
      "name": "python3",
      "display_name": "Python 3"
    },
    "language_info": {
      "name": "python"
    }
  },
  "cells": [
    {
      "cell_type": "markdown",
      "metadata": {
        "id": "view-in-github",
        "colab_type": "text"
      },
      "source": [
        "<a href=\"https://colab.research.google.com/github/em-chiu/Methods1/blob/main/Chiu_HW3.ipynb\" target=\"_parent\"><img src=\"https://colab.research.google.com/assets/colab-badge.svg\" alt=\"Open In Colab\"/></a>"
      ]
    },
    {
      "cell_type": "markdown",
      "metadata": {
        "id": "CTMu_shNbnc3"
      },
      "source": [
        "**Assignment 3**\n",
        "\n",
        "10 points\n",
        "\n",
        "* due Thursday Oct. 14, 11:45am (before the beginning of the class);\n",
        "* only Blackboard electronic submissions will be accepted;\n",
        "* no late submissions will be accepted;\n",
        "* this is an individual assignment;\n",
        "* name you file yourLastName_HW3.ipynb;\n",
        "* download your notebook from Google Colab?:\n",
        "    1. select 'Files' tab and 'Rename' your notebook following the pattern specified above;\n",
        "    2. select 'Edit' and 'Clear All Outputs';\n",
        "    3. select 'Runtime' and 'Restart Runtime';\n",
        "    4. select 'Files' tab and select 'Save' option to make sure that you saved the latest changes;\n",
        "    5. select 'File', then 'Download' (choose the .ipynb option).\n",
        "* Upload your assignment on the class blackboard (*Help*: https://help.blackboard.com/Learn/Student/Assignments/Submit_Assignments). \n",
        "its singular form. Tha table with the rules is presented below. For the irregular nouns and nouns that do not require any changes, incorporate into your script all the cases listed in the table. Your script should primpt the user to input a noun in its singular form for as many nouns as the user wants. Count the number of the created nouns and output the count\n",
        "\n"
      ]
    },
    {
      "cell_type": "markdown",
      "metadata": {
        "id": "SjQo3ODObsUO"
      },
      "source": [
        "The table below summarizes the rules for creating plural forms for nouns in English. You are also provided with the list of irregular nouns (which will also include exceptions from the rules) with a corresponding list of the nouns in their plural forms. The lists are matched by index. The irregular noun and the corresponding plural form have the same indices. Also, you are provided with the list of the nouns whose plural forms are the same as singular forms. The lists of irregular nouns and non-changing nouns are not complete, but they will be sufficient for our task. \n",
        "\n",
        "Your task is to create a list of nouns (you are provided with three sample lists), create the plural form for each of the nouns in the list and print the output in a table-like format (use the `\\t` character).\n",
        "\n",
        "A sample output for one of the sample lists is provided.  \n"
      ]
    },
    {
      "cell_type": "markdown",
      "metadata": {
        "id": "X2SbjzyRbng_"
      },
      "source": [
        "<img src = \"https://www.grammar.cl/rules/plural-nouns-english.jpg\" width=\"400\"/>"
      ]
    },
    {
      "cell_type": "code",
      "metadata": {
        "id": "4wfc7-BcQlwe"
      },
      "source": [
        "nouns_v1 = [\"table\", \"hero\", \"piano\", \"sheep\", \"radio\"]\n",
        "nouns_v2 = [\"city\", \"leaf\", \"bus\", \"car\", \"foot\", \"day\"]\n",
        "nouns_v3 = [\"baby\", \"fish\", \"wolf\", \"dog\", \"car\", \"bus\", \"tooth\", \"mouse\"]\n",
        "\n",
        "no_change_nouns = [\"sheep\", \"deer\" ,\"fish\", \"series\", \"species\"]\n",
        "irregular_and_exceptions_singular = [\"man\", \"woman\", \"child\", \"foot\", \"tooth\", \"mouse\", \"person\", \"piano\", \"photo\", \"roof\", \"cliff\", \"ox\"]\n",
        "irregular_and_exceptions_plural = [\"men\", \"women\", \"childen\", \"feet\", \"teeth\", \"mice\", \"people\", \"pianos\", \"photos\", \"roofs\", \"cliffs\", \"oxen\"]"
      ],
      "execution_count": null,
      "outputs": []
    },
    {
      "cell_type": "code",
      "metadata": {
        "id": "UYpUc7Ns39SX"
      },
      "source": [
        "nouns = nouns_v1+nouns_v2+nouns_v3\n",
        "\n",
        "print(\"single\\tplural\")\n",
        "print(\"------\\t------\")\n",
        "\n",
        "for q in nouns:\n",
        "  if (q.endswith(\"s\") or q.endswith(\"ch\") or q.endswith(\"x\") or q.endswith(\"z\")):\n",
        "    print(q+ \"\\t\"+ q + \"es\")  \n",
        "  elif (q.endswith(\"th\")):\n",
        "    print(q + \"\\t\" + q[:-4]+ \"eeth\")\n",
        "  elif (q[-1] == \"f\" or q[-1] == \"fe\"):\n",
        "    print(q+ \"\\t\"+ q[:-1]+ \"ves\")\n",
        "  elif (q.endswith(\"ty\") or q.endswith(\"by\") or q.endswith(\"ry\")):\n",
        "    print(q+ \"\\t\"+ q[:-1]+ \"ies\")\n",
        "  elif (q.endswith(\"ay\") or q.endswith(\"ey\") or q.endswith(\"oy\") or q.endswith(\"uy\")):\n",
        "    print(q+ \"\\t\"+ q +\"s\")\n",
        "  elif (q[-1] == \"e\" or q[-1] == \"o\" or q[-1] == \"r\" or q[-1] == \"g\"):\n",
        "    print(q +\"\\t\"+ q+\"s\")\n",
        "  elif (q.endswith(\"ro\") or q.endswith(\"ho\") or q.endswith(\"to\")):\n",
        "    print(q+ \"\\t\"+ q+\"es\")\n",
        "   \n",
        "for t in no_change_nouns:\n",
        "  print(t +\"\\t\"+ t)\n",
        "\n",
        "for w,z in zip (irregular_and_exceptions_singular, irregular_and_exceptions_plural):\n",
        "  print(w +\"\\t\"+ z)"
      ],
      "execution_count": null,
      "outputs": []
    }
  ]
}